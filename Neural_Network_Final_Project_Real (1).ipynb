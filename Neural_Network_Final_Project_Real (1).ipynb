{
  "nbformat": 4,
  "nbformat_minor": 0,
  "metadata": {
    "colab": {
      "provenance": [],
      "machine_shape": "hm"
    },
    "kernelspec": {
      "name": "python3",
      "display_name": "Python 3"
    },
    "language_info": {
      "name": "python"
    }
  },
  "cells": [
    {
      "cell_type": "code",
      "execution_count": 1,
      "metadata": {
        "id": "dCja_ABMcyd0"
      },
      "outputs": [],
      "source": [
        "#Goals of Project: Train a neural network to solve a handwritten math expression."
      ]
    },
    {
      "cell_type": "code",
      "source": [
        "import numpy as np\n",
        "import random\n",
        "from tensorflow import keras\n",
        "from tensorflow.keras.models import Sequential\n",
        "from tensorflow.keras.layers import Dense\n",
        "import tensorflow as tf\n",
        "from tensorflow.keras import layers, models\n",
        "from tensorflow.keras.layers import Conv2D, MaxPooling2D, Flatten, Dense, Dropout\n",
        "import matplotlib.pyplot as plt\n",
        "from tensorflow.keras.layers import BatchNormalization\n",
        "from tensorflow.keras.optimizers import Adam\n"
      ],
      "metadata": {
        "id": "Ix66_QAAc2Lw"
      },
      "execution_count": 1,
      "outputs": []
    },
    {
      "cell_type": "code",
      "source": [
        "!pip install kaggle"
      ],
      "metadata": {
        "colab": {
          "base_uri": "https://localhost:8080/"
        },
        "id": "wFadMq4Cc4k4",
        "outputId": "77eb9447-5f61-4b91-d8b0-19ddc876205d"
      },
      "execution_count": 2,
      "outputs": [
        {
          "output_type": "stream",
          "name": "stdout",
          "text": [
            "Requirement already satisfied: kaggle in /usr/local/lib/python3.10/dist-packages (1.5.16)\n",
            "Requirement already satisfied: six>=1.10 in /usr/local/lib/python3.10/dist-packages (from kaggle) (1.16.0)\n",
            "Requirement already satisfied: certifi in /usr/local/lib/python3.10/dist-packages (from kaggle) (2023.11.17)\n",
            "Requirement already satisfied: python-dateutil in /usr/local/lib/python3.10/dist-packages (from kaggle) (2.8.2)\n",
            "Requirement already satisfied: requests in /usr/local/lib/python3.10/dist-packages (from kaggle) (2.31.0)\n",
            "Requirement already satisfied: tqdm in /usr/local/lib/python3.10/dist-packages (from kaggle) (4.66.1)\n",
            "Requirement already satisfied: python-slugify in /usr/local/lib/python3.10/dist-packages (from kaggle) (8.0.1)\n",
            "Requirement already satisfied: urllib3 in /usr/local/lib/python3.10/dist-packages (from kaggle) (2.0.7)\n",
            "Requirement already satisfied: bleach in /usr/local/lib/python3.10/dist-packages (from kaggle) (6.1.0)\n",
            "Requirement already satisfied: webencodings in /usr/local/lib/python3.10/dist-packages (from bleach->kaggle) (0.5.1)\n",
            "Requirement already satisfied: text-unidecode>=1.3 in /usr/local/lib/python3.10/dist-packages (from python-slugify->kaggle) (1.3)\n",
            "Requirement already satisfied: charset-normalizer<4,>=2 in /usr/local/lib/python3.10/dist-packages (from requests->kaggle) (3.3.2)\n",
            "Requirement already satisfied: idna<4,>=2.5 in /usr/local/lib/python3.10/dist-packages (from requests->kaggle) (3.6)\n"
          ]
        }
      ]
    },
    {
      "cell_type": "code",
      "source": [
        "from google.colab import files\n",
        "upload = files.upload()"
      ],
      "metadata": {
        "colab": {
          "base_uri": "https://localhost:8080/",
          "height": 74
        },
        "id": "KWNTaTu7c6p-",
        "outputId": "fd7f17bd-cbea-4ec0-f824-012b44d67e33"
      },
      "execution_count": 3,
      "outputs": [
        {
          "output_type": "display_data",
          "data": {
            "text/plain": [
              "<IPython.core.display.HTML object>"
            ],
            "text/html": [
              "\n",
              "     <input type=\"file\" id=\"files-c48ef993-8113-4826-9a5b-bbe979fcf269\" name=\"files[]\" multiple disabled\n",
              "        style=\"border:none\" />\n",
              "     <output id=\"result-c48ef993-8113-4826-9a5b-bbe979fcf269\">\n",
              "      Upload widget is only available when the cell has been executed in the\n",
              "      current browser session. Please rerun this cell to enable.\n",
              "      </output>\n",
              "      <script>// Copyright 2017 Google LLC\n",
              "//\n",
              "// Licensed under the Apache License, Version 2.0 (the \"License\");\n",
              "// you may not use this file except in compliance with the License.\n",
              "// You may obtain a copy of the License at\n",
              "//\n",
              "//      http://www.apache.org/licenses/LICENSE-2.0\n",
              "//\n",
              "// Unless required by applicable law or agreed to in writing, software\n",
              "// distributed under the License is distributed on an \"AS IS\" BASIS,\n",
              "// WITHOUT WARRANTIES OR CONDITIONS OF ANY KIND, either express or implied.\n",
              "// See the License for the specific language governing permissions and\n",
              "// limitations under the License.\n",
              "\n",
              "/**\n",
              " * @fileoverview Helpers for google.colab Python module.\n",
              " */\n",
              "(function(scope) {\n",
              "function span(text, styleAttributes = {}) {\n",
              "  const element = document.createElement('span');\n",
              "  element.textContent = text;\n",
              "  for (const key of Object.keys(styleAttributes)) {\n",
              "    element.style[key] = styleAttributes[key];\n",
              "  }\n",
              "  return element;\n",
              "}\n",
              "\n",
              "// Max number of bytes which will be uploaded at a time.\n",
              "const MAX_PAYLOAD_SIZE = 100 * 1024;\n",
              "\n",
              "function _uploadFiles(inputId, outputId) {\n",
              "  const steps = uploadFilesStep(inputId, outputId);\n",
              "  const outputElement = document.getElementById(outputId);\n",
              "  // Cache steps on the outputElement to make it available for the next call\n",
              "  // to uploadFilesContinue from Python.\n",
              "  outputElement.steps = steps;\n",
              "\n",
              "  return _uploadFilesContinue(outputId);\n",
              "}\n",
              "\n",
              "// This is roughly an async generator (not supported in the browser yet),\n",
              "// where there are multiple asynchronous steps and the Python side is going\n",
              "// to poll for completion of each step.\n",
              "// This uses a Promise to block the python side on completion of each step,\n",
              "// then passes the result of the previous step as the input to the next step.\n",
              "function _uploadFilesContinue(outputId) {\n",
              "  const outputElement = document.getElementById(outputId);\n",
              "  const steps = outputElement.steps;\n",
              "\n",
              "  const next = steps.next(outputElement.lastPromiseValue);\n",
              "  return Promise.resolve(next.value.promise).then((value) => {\n",
              "    // Cache the last promise value to make it available to the next\n",
              "    // step of the generator.\n",
              "    outputElement.lastPromiseValue = value;\n",
              "    return next.value.response;\n",
              "  });\n",
              "}\n",
              "\n",
              "/**\n",
              " * Generator function which is called between each async step of the upload\n",
              " * process.\n",
              " * @param {string} inputId Element ID of the input file picker element.\n",
              " * @param {string} outputId Element ID of the output display.\n",
              " * @return {!Iterable<!Object>} Iterable of next steps.\n",
              " */\n",
              "function* uploadFilesStep(inputId, outputId) {\n",
              "  const inputElement = document.getElementById(inputId);\n",
              "  inputElement.disabled = false;\n",
              "\n",
              "  const outputElement = document.getElementById(outputId);\n",
              "  outputElement.innerHTML = '';\n",
              "\n",
              "  const pickedPromise = new Promise((resolve) => {\n",
              "    inputElement.addEventListener('change', (e) => {\n",
              "      resolve(e.target.files);\n",
              "    });\n",
              "  });\n",
              "\n",
              "  const cancel = document.createElement('button');\n",
              "  inputElement.parentElement.appendChild(cancel);\n",
              "  cancel.textContent = 'Cancel upload';\n",
              "  const cancelPromise = new Promise((resolve) => {\n",
              "    cancel.onclick = () => {\n",
              "      resolve(null);\n",
              "    };\n",
              "  });\n",
              "\n",
              "  // Wait for the user to pick the files.\n",
              "  const files = yield {\n",
              "    promise: Promise.race([pickedPromise, cancelPromise]),\n",
              "    response: {\n",
              "      action: 'starting',\n",
              "    }\n",
              "  };\n",
              "\n",
              "  cancel.remove();\n",
              "\n",
              "  // Disable the input element since further picks are not allowed.\n",
              "  inputElement.disabled = true;\n",
              "\n",
              "  if (!files) {\n",
              "    return {\n",
              "      response: {\n",
              "        action: 'complete',\n",
              "      }\n",
              "    };\n",
              "  }\n",
              "\n",
              "  for (const file of files) {\n",
              "    const li = document.createElement('li');\n",
              "    li.append(span(file.name, {fontWeight: 'bold'}));\n",
              "    li.append(span(\n",
              "        `(${file.type || 'n/a'}) - ${file.size} bytes, ` +\n",
              "        `last modified: ${\n",
              "            file.lastModifiedDate ? file.lastModifiedDate.toLocaleDateString() :\n",
              "                                    'n/a'} - `));\n",
              "    const percent = span('0% done');\n",
              "    li.appendChild(percent);\n",
              "\n",
              "    outputElement.appendChild(li);\n",
              "\n",
              "    const fileDataPromise = new Promise((resolve) => {\n",
              "      const reader = new FileReader();\n",
              "      reader.onload = (e) => {\n",
              "        resolve(e.target.result);\n",
              "      };\n",
              "      reader.readAsArrayBuffer(file);\n",
              "    });\n",
              "    // Wait for the data to be ready.\n",
              "    let fileData = yield {\n",
              "      promise: fileDataPromise,\n",
              "      response: {\n",
              "        action: 'continue',\n",
              "      }\n",
              "    };\n",
              "\n",
              "    // Use a chunked sending to avoid message size limits. See b/62115660.\n",
              "    let position = 0;\n",
              "    do {\n",
              "      const length = Math.min(fileData.byteLength - position, MAX_PAYLOAD_SIZE);\n",
              "      const chunk = new Uint8Array(fileData, position, length);\n",
              "      position += length;\n",
              "\n",
              "      const base64 = btoa(String.fromCharCode.apply(null, chunk));\n",
              "      yield {\n",
              "        response: {\n",
              "          action: 'append',\n",
              "          file: file.name,\n",
              "          data: base64,\n",
              "        },\n",
              "      };\n",
              "\n",
              "      let percentDone = fileData.byteLength === 0 ?\n",
              "          100 :\n",
              "          Math.round((position / fileData.byteLength) * 100);\n",
              "      percent.textContent = `${percentDone}% done`;\n",
              "\n",
              "    } while (position < fileData.byteLength);\n",
              "  }\n",
              "\n",
              "  // All done.\n",
              "  yield {\n",
              "    response: {\n",
              "      action: 'complete',\n",
              "    }\n",
              "  };\n",
              "}\n",
              "\n",
              "scope.google = scope.google || {};\n",
              "scope.google.colab = scope.google.colab || {};\n",
              "scope.google.colab._files = {\n",
              "  _uploadFiles,\n",
              "  _uploadFilesContinue,\n",
              "};\n",
              "})(self);\n",
              "</script> "
            ]
          },
          "metadata": {}
        },
        {
          "output_type": "stream",
          "name": "stdout",
          "text": [
            "Saving kaggle.json to kaggle.json\n"
          ]
        }
      ]
    },
    {
      "cell_type": "code",
      "source": [
        "!mkdir ~/.kaggle\n",
        "!mv kaggle.json ~/.kaggle/\n",
        "!chmod 600 ~/.kaggle/kaggle.json"
      ],
      "metadata": {
        "colab": {
          "base_uri": "https://localhost:8080/"
        },
        "id": "yLMjewKhc87S",
        "outputId": "f8dd4a05-39b2-43e0-a689-aef4f8e54bc1"
      },
      "execution_count": 4,
      "outputs": [
        {
          "output_type": "stream",
          "name": "stdout",
          "text": [
            "mkdir: cannot create directory ‘/root/.kaggle’: File exists\n"
          ]
        }
      ]
    },
    {
      "cell_type": "code",
      "source": [
        "!kaggle datasets download -d xainano/handwrittenmathsymbols"
      ],
      "metadata": {
        "colab": {
          "base_uri": "https://localhost:8080/"
        },
        "id": "H-a__wfidCKa",
        "outputId": "2e6c8498-5e0b-4aa7-9a73-17788794f8fd"
      },
      "execution_count": 5,
      "outputs": [
        {
          "output_type": "stream",
          "name": "stdout",
          "text": [
            "handwrittenmathsymbols.zip: Skipping, found more recently modified local copy (use --force to force download)\n"
          ]
        }
      ]
    },
    {
      "cell_type": "code",
      "source": [
        "import zipfile\n",
        "\n",
        "with zipfile.ZipFile('handwrittenmathsymbols.zip', 'r') as zip_ref:\n",
        "    zip_ref.extractall('dataset')"
      ],
      "metadata": {
        "id": "HqRjQqdJdC4i"
      },
      "execution_count": 6,
      "outputs": []
    },
    {
      "cell_type": "code",
      "source": [
        "import cv2\n",
        "import os\n",
        "from sklearn.model_selection import train_test_split\n",
        "from sklearn.preprocessing import LabelEncoder\n",
        "from tensorflow.keras.utils import to_categorical\n",
        "from tensorflow.keras.datasets import mnist\n",
        "from tensorflow.keras.preprocessing.image import ImageDataGenerator\n",
        "\n",
        "# Set the path to the handwritten image dataset\n",
        "handwritten_dataset_path = './dataset/extracted_images'\n",
        "\n",
        "# Load handwritten images and labels\n",
        "handwritten_images = []\n",
        "handwritten_labels = []\n",
        "\n",
        "for symbol_class in os.listdir(handwritten_dataset_path):\n",
        "    class_path = os.path.join(handwritten_dataset_path, symbol_class)\n",
        "\n",
        "    for image_file in os.listdir(class_path):\n",
        "        image_path = os.path.join(class_path, image_file)\n",
        "\n",
        "        try:\n",
        "            image = cv2.imread(image_path, cv2.IMREAD_GRAYSCALE)\n",
        "\n",
        "            if image is not None:\n",
        "                image = cv2.resize(image, (64, 64))\n",
        "                handwritten_images.append(image)\n",
        "                handwritten_labels.append(symbol_class)\n",
        "            else:\n",
        "                print(f\"Warning: Unable to read or empty image - {image_path}\")\n",
        "\n",
        "        except Exception as e:\n",
        "            print(f\"Error processing image - {image_path}\")\n",
        "            print(f\"Error details: {str(e)}\")\n",
        "\n",
        "# Convert lists to NumPy arrays\n",
        "handwritten_images = np.array(handwritten_images)\n",
        "handwritten_labels = np.array(handwritten_labels)\n",
        "\n",
        "# Encode labels\n",
        "handwritten_label_encoder = LabelEncoder()\n",
        "handwritten_labels_encoded = handwritten_label_encoder.fit_transform(handwritten_labels)\n",
        "handwritten_labels_one_hot = to_categorical(handwritten_labels_encoded)\n",
        "\n",
        "# Normalize pixel values\n",
        "handwritten_images = handwritten_images / 255.0\n",
        "\n",
        "# Split the handwritten dataset into training and testing sets\n",
        "X_handwritten_train, X_handwritten_test, y_handwritten_train, y_handwritten_test = train_test_split(\n",
        "    handwritten_images, handwritten_labels_one_hot, test_size=0.2, random_state=42\n",
        ")\n",
        "\n",
        "# Reshape the input data for CNN\n",
        "X_handwritten_train = X_handwritten_train.reshape(X_handwritten_train.shape[0], 64, 64, 1)\n",
        "X_handwritten_test = X_handwritten_test.reshape(X_handwritten_test.shape[0], 64, 64, 1)\n",
        "\n",
        "# Print the shapes of the handwritten datasets\n",
        "print(\"X_handwritten_train shape:\", X_handwritten_train.shape)\n",
        "print(\"X_handwritten_test shape:\", X_handwritten_test.shape)\n",
        "print(\"y_handwritten_train shape:\", y_handwritten_train.shape)\n",
        "print(\"y_handwritten_test shape:\", y_handwritten_test.shape)\n",
        "\n",
        "# Load MNIST dataset\n",
        "(X_mnist_train, y_mnist_train), (X_mnist_test, y_mnist_test) = mnist.load_data()\n",
        "\n",
        "# Resize MNIST images to match the dimensions of the handwritten image dataset (64 by 64)\n",
        "X_mnist_train_resized = np.array([cv2.resize(image, (64, 64)) for image in X_mnist_train])\n",
        "X_mnist_test_resized = np.array([cv2.resize(image, (64, 64)) for image in X_mnist_test])\n",
        "\n",
        "# Reshape and normalize x MNIST data\n",
        "X_mnist_train_resized = X_mnist_train_resized.reshape(X_mnist_train_resized.shape[0], 64, 64, 1).astype('float32') / 255\n",
        "X_mnist_test_resized = X_mnist_test_resized.reshape(X_mnist_test_resized.shape[0], 64, 64, 1).astype('float32') / 255\n",
        "\n",
        "# One-hot encode the labels\n",
        "y_mnist_train_one_hot = to_categorical(y_mnist_train)\n",
        "y_mnist_test_one_hot = to_categorical(y_mnist_test)\n",
        "\n",
        "# Print the shapes of the resized MNIST datasets\n",
        "print(\"X_mnist_train_resized shape:\", X_mnist_train_resized.shape)\n",
        "print(\"X_mnist_test_resized shape:\", X_mnist_test_resized.shape)\n",
        "print(\"y_mnist_train_one_hot shape:\", y_mnist_train_one_hot.shape)\n",
        "print(\"y_mnist_test_one_hot shape:\", y_mnist_test_one_hot.shape)\n",
        "\n",
        "# Pad y_handwritten_train and test and y_mnist_train and test to get 17 columns\n",
        "y_handwritten_train_padded = np.pad(y_handwritten_train, [(0, 0), (0, 10)], mode='constant', constant_values=0)\n",
        "y_handwritten_test_padded = np.pad(y_handwritten_train, [(0,0), (0,10)], mode='constant', constant_values=0)\n",
        "y_mnist_train_padded = np.pad(y_mnist_train_one_hot, [(0,0), (0,7)], mode='constant', constant_values=0)\n",
        "y_mnist_test_padded = np.pad(y_mnist_train_one_hot, [(0,0), (0,7)], mode='constant', constant_values=0)\n",
        "\n",
        "# Concatenate the handwritten image dataset with the MNIST dataset\n",
        "X_combined_train = np.concatenate([X_handwritten_train, X_mnist_train_resized], axis=0)\n",
        "y_combined_train = np.concatenate([y_handwritten_train_padded, y_mnist_train_padded], axis=0)\n",
        "X_combined_test = np.concatenate([X_handwritten_test, X_mnist_test_resized], axis=0)\n",
        "y_combined_test = np.concatenate([y_handwritten_test_padded, y_mnist_test_padded], axis=0)\n",
        "\n",
        "# Ensure consistent sizes for X_combined_test and y_combined_test\n",
        "X_combined_test = X_combined_test[:len(y_combined_test)]\n",
        "y_combined_test = y_combined_test[:len(X_combined_test)]\n",
        "\n",
        "# Print the shapes of the combined datasets\n",
        "print(\"X_combined_train shape:\", X_combined_train.shape)\n",
        "print(\"X_combined_test shape:\", X_combined_test.shape)\n",
        "print(\"y_combined_train shape:\", y_combined_train.shape)\n",
        "print(\"y_combined_test shape:\", y_combined_test.shape)\n",
        "\n",
        "# Data augmentation for the datasets\n",
        "datagen = ImageDataGenerator(\n",
        "    rotation_range=20,\n",
        "    width_shift_range=0.2,\n",
        "    height_shift_range=0.2,\n",
        "    shear_range=0.2,\n",
        "    zoom_range=0.2,\n",
        "    horizontal_flip=True,\n",
        "    fill_mode='nearest'\n",
        ")"
      ],
      "metadata": {
        "colab": {
          "base_uri": "https://localhost:8080/"
        },
        "id": "CLNeaOLgdKIF",
        "outputId": "b723b78f-1f75-4ce5-f0d3-7991515795ae"
      },
      "execution_count": 12,
      "outputs": [
        {
          "output_type": "stream",
          "name": "stdout",
          "text": [
            "X_handwritten_train shape: (77143, 64, 64, 1)\n",
            "X_handwritten_test shape: (19286, 64, 64, 1)\n",
            "y_handwritten_train shape: (77143, 7)\n",
            "y_handwritten_test shape: (19286, 7)\n",
            "X_mnist_train_resized shape: (60000, 64, 64, 1)\n",
            "X_mnist_test_resized shape: (10000, 64, 64, 1)\n",
            "y_mnist_train_one_hot shape: (60000, 10)\n",
            "y_mnist_test_one_hot shape: (10000, 10)\n",
            "X_combined_train shape: (137143, 64, 64, 1)\n",
            "X_combined_test shape: (29286, 64, 64, 1)\n",
            "y_combined_train shape: (137143, 17)\n",
            "y_combined_test shape: (29286, 17)\n"
          ]
        }
      ]
    },
    {
      "cell_type": "code",
      "source": [
        "# Define the CNN model\n",
        "model = Sequential()\n",
        "\n",
        "# Convolutional layer with 32 filters, a 3x3 kernel, and 'relu' activation function\n",
        "model.add(Conv2D(32, (3, 3), activation='relu', input_shape=(64, 64, 1)))\n",
        "# Batch Normalization layer\n",
        "model.add(BatchNormalization())\n",
        "# Max pooling layer to reduce spatial dimensions\n",
        "model.add(MaxPooling2D((2, 2)))\n",
        "\n",
        "# Another convolutional layer with 64 filters and 'relu' activation\n",
        "model.add(Conv2D(64, (3, 3), activation='relu'))\n",
        "# Batch Normalization layer\n",
        "model.add(BatchNormalization())\n",
        "# Another max pooling layer\n",
        "model.add(MaxPooling2D((2, 2)))\n",
        "\n",
        "# Another convolutional layer with 128 filters and 'relu' activation\n",
        "model.add(Conv2D(128, (3,3), activation='relu'))\n",
        "# Batch Normalization layer\n",
        "model.add(BatchNormalization())\n",
        "# Another max pooling layer\n",
        "model.add(MaxPooling2D((2,2)))\n",
        "\n",
        "# Flatten the output to feed into densely connected layers\n",
        "model.add(Flatten())\n",
        "\n",
        "# Dense (fully connected) layer with 128 neurons and 'relu' activation\n",
        "model.add(Dense(128, activation='relu'))\n",
        "# Dropout layer to reduce overfitting\n",
        "model.add(Dropout(0.5))\n",
        "\n",
        "# Output layer with as many neurons as classes and 'softmax' activation for multi-class classification\n",
        "model.add(Dense(17, activation='softmax'))\n",
        "\n",
        "# Compile the model\n",
        "optimizer = Adam(learning_rate=0.0001)\n",
        "model.compile(optimizer='adam', loss='categorical_crossentropy', metrics=['accuracy'])\n",
        "\n",
        "# Print the model summary\n",
        "model.summary()\n",
        "\n",
        "# Train the model on the training data with validation data\n",
        "history = model.fit(\n",
        "    X_combined_train, y_combined_train,\n",
        "    epochs=5, batch_size=32,\n",
        "    validation_split=0.2\n",
        ")\n",
        "\n",
        "# Evaluate the model on the test set\n",
        "test_loss, test_accuracy = model.evaluate(X_combined_test, y_combined_test, verbose=2)\n",
        "print(f\"\\nTest Accuracy: {test_accuracy * 100:.2f}%\")"
      ],
      "metadata": {
        "colab": {
          "base_uri": "https://localhost:8080/"
        },
        "id": "NCqCoSf_dYY6",
        "outputId": "604c56ef-b8c7-4abb-f74a-fdf2c61856e8"
      },
      "execution_count": 13,
      "outputs": [
        {
          "output_type": "stream",
          "name": "stdout",
          "text": [
            "Model: \"sequential_2\"\n",
            "_________________________________________________________________\n",
            " Layer (type)                Output Shape              Param #   \n",
            "=================================================================\n",
            " conv2d_6 (Conv2D)           (None, 62, 62, 32)        320       \n",
            "                                                                 \n",
            " batch_normalization_6 (Bat  (None, 62, 62, 32)        128       \n",
            " chNormalization)                                                \n",
            "                                                                 \n",
            " max_pooling2d_6 (MaxPoolin  (None, 31, 31, 32)        0         \n",
            " g2D)                                                            \n",
            "                                                                 \n",
            " conv2d_7 (Conv2D)           (None, 29, 29, 64)        18496     \n",
            "                                                                 \n",
            " batch_normalization_7 (Bat  (None, 29, 29, 64)        256       \n",
            " chNormalization)                                                \n",
            "                                                                 \n",
            " max_pooling2d_7 (MaxPoolin  (None, 14, 14, 64)        0         \n",
            " g2D)                                                            \n",
            "                                                                 \n",
            " conv2d_8 (Conv2D)           (None, 12, 12, 128)       73856     \n",
            "                                                                 \n",
            " batch_normalization_8 (Bat  (None, 12, 12, 128)       512       \n",
            " chNormalization)                                                \n",
            "                                                                 \n",
            " max_pooling2d_8 (MaxPoolin  (None, 6, 6, 128)         0         \n",
            " g2D)                                                            \n",
            "                                                                 \n",
            " flatten_2 (Flatten)         (None, 4608)              0         \n",
            "                                                                 \n",
            " dense_4 (Dense)             (None, 128)               589952    \n",
            "                                                                 \n",
            " dropout_2 (Dropout)         (None, 128)               0         \n",
            "                                                                 \n",
            " dense_5 (Dense)             (None, 17)                2193      \n",
            "                                                                 \n",
            "=================================================================\n",
            "Total params: 685713 (2.62 MB)\n",
            "Trainable params: 685265 (2.61 MB)\n",
            "Non-trainable params: 448 (1.75 KB)\n",
            "_________________________________________________________________\n",
            "Epoch 1/5\n",
            "3429/3429 [==============================] - 258s 75ms/step - loss: 0.2141 - accuracy: 0.9410 - val_loss: 0.0896 - val_accuracy: 0.9745\n",
            "Epoch 2/5\n",
            "3429/3429 [==============================] - 257s 75ms/step - loss: 0.1021 - accuracy: 0.9718 - val_loss: 0.0833 - val_accuracy: 0.9781\n",
            "Epoch 3/5\n",
            "3429/3429 [==============================] - 262s 76ms/step - loss: 0.0726 - accuracy: 0.9794 - val_loss: 0.0673 - val_accuracy: 0.9835\n",
            "Epoch 4/5\n",
            "3429/3429 [==============================] - 258s 75ms/step - loss: 0.0586 - accuracy: 0.9831 - val_loss: 0.0625 - val_accuracy: 0.9840\n",
            "Epoch 5/5\n",
            "3429/3429 [==============================] - 256s 75ms/step - loss: 0.0513 - accuracy: 0.9853 - val_loss: 0.0646 - val_accuracy: 0.9848\n",
            "916/916 - 17s - loss: 24.3958 - accuracy: 0.1932 - 17s/epoch - 19ms/step\n",
            "\n",
            "Test Accuracy: 19.32%\n"
          ]
        }
      ]
    },
    {
      "cell_type": "code",
      "source": [
        "print(\"X_combined_train shape:\", X_combined_train.shape)\n",
        "print(\"y_combined_train shape:\", y_combined_train.shape)\n",
        "print(\"X_combined_test shape:\", X_combined_test.shape)\n",
        "print(\"y_combined_test shape:\", y_combined_test.shape)"
      ],
      "metadata": {
        "colab": {
          "base_uri": "https://localhost:8080/"
        },
        "id": "vry1qWMo93wf",
        "outputId": "ca3627a2-523d-456f-87ff-3f97fcea5c18"
      },
      "execution_count": 30,
      "outputs": [
        {
          "output_type": "stream",
          "name": "stdout",
          "text": [
            "X_combined_train shape: (137143, 64, 64, 1)\n",
            "y_combined_train shape: (137143, 10)\n",
            "X_combined_test shape: (29286, 64, 64, 1)\n",
            "y_combined_test shape: (87143, 10)\n"
          ]
        }
      ]
    },
    {
      "cell_type": "code",
      "source": [
        "#Block to save trained model\n",
        "from tensorflow.keras.models import model_from_json\n",
        "\n",
        "# Save model architecture to JSON file\n",
        "model_json = model.to_json()\n",
        "with open(\"model.json\", \"w\") as json_file:\n",
        "    json_file.write(model_json)\n",
        "\n",
        "# Save the entire model as a single HDF5 file\n",
        "model.save(\"full_model.h5\")"
      ],
      "metadata": {
        "id": "Hopz9mthddN9"
      },
      "execution_count": null,
      "outputs": []
    },
    {
      "cell_type": "code",
      "source": [
        "#Block to load saved trained model\n",
        "from tensorflow.keras.models import load_model\n",
        "\n",
        "# Load model architecture from JSON file\n",
        "with open(\"model.json\", \"r\") as json_file:\n",
        "    loaded_model_json = json_file.read()\n",
        "\n",
        "loaded_model = model_from_json(loaded_model_json)\n",
        "\n",
        "#Load the entire model from a single HDF5 file\n",
        "loaded_model = load_model(\"full_model.h5\")"
      ],
      "metadata": {
        "id": "0nEnzBAsdd0h"
      },
      "execution_count": null,
      "outputs": []
    }
  ]
}